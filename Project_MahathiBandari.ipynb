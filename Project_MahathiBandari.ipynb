{
  "cells": [
    {
      "cell_type": "code",
      "execution_count": null,
      "id": "51fa928a",
      "metadata": {
        "id": "51fa928a"
      },
      "outputs": [],
      "source": [
        "import tweepy # importing tweepy library "
      ]
    },
    {
      "cell_type": "code",
      "source": [
        "from google.colab import drive\n",
        "drive.mount('/content/gdrive') # connecting my google drive"
      ],
      "metadata": {
        "colab": {
          "base_uri": "https://localhost:8080/"
        },
        "id": "tcVZRC8JHwAF",
        "outputId": "14bf9030-2e8d-4e11-bb54-3028d95f77c2"
      },
      "id": "tcVZRC8JHwAF",
      "execution_count": null,
      "outputs": [
        {
          "output_type": "stream",
          "name": "stdout",
          "text": [
            "Mounted at /content/gdrive\n"
          ]
        }
      ]
    },
    {
      "cell_type": "code",
      "source": [
        "cd '/content/gdrive/My Drive/NLP_Proj_MahathiBandari' #setting the path"
      ],
      "metadata": {
        "colab": {
          "base_uri": "https://localhost:8080/"
        },
        "id": "pJhO-gJHIVW1",
        "outputId": "2117e48c-8ce2-4df6-a654-d4e8903e9960"
      },
      "id": "pJhO-gJHIVW1",
      "execution_count": null,
      "outputs": [
        {
          "output_type": "stream",
          "name": "stdout",
          "text": [
            "/content/gdrive/My Drive/NLP_Proj_MahathiBandari\n"
          ]
        }
      ]
    },
    {
      "cell_type": "code",
      "source": [
        "# twitter account keys \n",
        "consumerApiKey = \"RxLtNeVAjq7yYxXl7CTjamFFi\"\n",
        "consumerApiSecret = \"Y3mAQeNRIrGLsC6AWBgpRHnxp2tzan5c4syTl7A8sIZwecEIKJ\"\n",
        "accessToken = \"1651343581771100160-n7neM6PNAe6X4kYN8LxPybZGxTeyjr\"\n",
        "accessTokenSecret = \"y5KRzM6GEeF7UtaJW9TWK4ObEsP9cv5GJMAystruQe2Ok\""
      ],
      "metadata": {
        "id": "sdgJH8sfNNck"
      },
      "id": "sdgJH8sfNNck",
      "execution_count": null,
      "outputs": []
    },
    {
      "cell_type": "code",
      "source": [
        "import re"
      ],
      "metadata": {
        "id": "A9tVnrExNZ7V"
      },
      "id": "A9tVnrExNZ7V",
      "execution_count": null,
      "outputs": []
    },
    {
      "cell_type": "code",
      "source": [
        "# WEBSCRAPING OF TWEETS USING TWEEPY LIBRARY\n",
        "\n",
        "auth = tweepy.OAuthHandler(consumerApiKey, consumerApiSecret) # OAuth 1.0a user authentication handler object \n",
        "auth.set_access_token(accessToken, accessTokenSecret)\n",
        "api = tweepy.API(auth) # setting up authentication credentials and initializing a client object for accessing the Twitter API using the Tweepy library\n",
        "\n",
        "tags = [\"georgiatech\",\"gatech\",\"ramblinon\",\"togetherweswarm\",\"georgiatechfootball\",\"gt23\",\"georgiayellowjackets\",\"georgiatechgolf\",\"georgiayellowjackets\"] # array of tags for the university Georgia tech \n",
        "unique_tweets = set()\n",
        "\n",
        "for tag in tags: # collects tweets for each hashtag present in tags array\n",
        "    query = tag\n",
        "    for page in tweepy.Cursor(api.search_tweets, q=tag, lang='en', tweet_mode='extended', count=100).pages(100):\n",
        "        for tweet in page: # Loop through tweets on the page\n",
        "            if 'retweeted_status' in dir(tweet): # Check if the tweet is a retweet or a duplicate\n",
        "                tweet_text = tweet.retweeted_status.full_text\n",
        "            else:\n",
        "                tweet_text = tweet.full_text\n",
        "\n",
        "            tweet_text = re.sub(r\"(#[\\d\\w]+)|(http\\S+)\", \"\", tweet_text).strip()\n",
        "\n",
        "            if tweet_text not in unique_tweets: #gathering unique tweets\n",
        "                unique_tweets.add(tweet_text)\n",
        "\n",
        "                with open('gatech_tweets.txt', 'a') as f: # saving tweets to gatech_tweets.txt\n",
        "                    f.write(tweet_text)\n",
        "                    f.write('\\n')"
      ],
      "metadata": {
        "id": "vyniM_n2JePB"
      },
      "id": "vyniM_n2JePB",
      "execution_count": null,
      "outputs": []
    },
    {
      "cell_type": "code",
      "source": [
        "# PREPROCESSING OF DATA\n",
        "\n",
        "import string\n",
        "import csv\n",
        "import nltk\n",
        "from nltk.corpus import stopwords\n",
        "from nltk.tokenize import word_tokenize"
      ],
      "metadata": {
        "id": "N8Q6LD9LNyNN"
      },
      "id": "N8Q6LD9LNyNN",
      "execution_count": null,
      "outputs": []
    },
    {
      "cell_type": "code",
      "source": [
        "nltk.download('punkt')\n",
        "nltk.download('stopwords')"
      ],
      "metadata": {
        "id": "CAFR3niAOCK0"
      },
      "id": "CAFR3niAOCK0",
      "execution_count": null,
      "outputs": []
    },
    {
      "cell_type": "code",
      "source": [
        "def preprocessingDataTweets(text): #preprocessing data to clean the unneccessary data\n",
        "\n",
        "    text = re.sub(r'(https?|www)\\S+', '', text, flags=re.MULTILINE) # to remove weburl\n",
        "    \n",
        "    text = re.sub(r'[@#]\\w+', '', text) # to remove hashtags and mentions\n",
        "  \n",
        "    text = text.translate(str.maketrans('', '', string.punctuation)) # to remove punctuation marks\n",
        "\n",
        "    text = text.lower() #converts to lowercase for non repeation of words like the|The\n",
        "\n",
        "    tokens = word_tokenize(text) #converts the text into tokens\n",
        "\n",
        "    stopWords = set(stopwords.words('english')) #list of stopwords defining in stopwords variable\n",
        "    tokens = [word for word in tokens if word not in stopWords] # removes all the stopwords from tokens\n",
        "\n",
        "    text = ' '.join(tokens) # to convert the tokens to sentences\n",
        "\n",
        "    return text"
      ],
      "metadata": {
        "id": "iYNSJfEPOKMs"
      },
      "id": "iYNSJfEPOKMs",
      "execution_count": null,
      "outputs": []
    },
    {
      "cell_type": "code",
      "source": [
        "preprocessedDataTweets = [] #defining array to store preprocessed tweets\n",
        "\n",
        "with open('gatech_tweets.txt', 'r', encoding='utf-8') as file: #Reading our tweets file to create preprocessed tweets file\n",
        "    reader = csv.reader(file, delimiter='\\t')\n",
        "    for row in reader:\n",
        "        if len(row) > 0:  \n",
        "            tweet_text = row[0]\n",
        "            preprocessed_text = preprocessingDataTweets(tweet_text)\n",
        "            preprocessedDataTweets.append(preprocessed_text)\n",
        "\n",
        "with open('gatech_preprocessed_tweets.txt', 'w', encoding='utf-8') as file: #Saving preprocessed tweets to new file\n",
        "    writer = csv.writer(file, delimiter='\\t')\n",
        "    for tweet in preprocessedDataTweets:\n",
        "        writer.writerow([tweet])"
      ],
      "metadata": {
        "id": "YZTj1jJqUnmZ"
      },
      "id": "YZTj1jJqUnmZ",
      "execution_count": null,
      "outputs": []
    },
    {
      "cell_type": "code",
      "source": [
        "#FEATURE EXTRACTION\n",
        "\n",
        "from sklearn.feature_extraction.text import CountVectorizer, TfidfTransformer\n",
        "import numpy as np"
      ],
      "metadata": {
        "id": "EWxIqmP3PRp2"
      },
      "id": "EWxIqmP3PRp2",
      "execution_count": null,
      "outputs": []
    },
    {
      "cell_type": "code",
      "source": [
        "preprocessedDataTweets = []\n",
        "with open('gatech_preprocessed_tweets.txt', 'r', encoding='utf-8') as file: # Reading the preprocessed tweets from the file\n",
        "    reader = csv.reader(file, delimiter='\\t')\n",
        "    for row in reader:\n",
        "        preprocessedDataTweets.append(row[0])"
      ],
      "metadata": {
        "id": "jWAXEWbyaptz"
      },
      "id": "jWAXEWbyaptz",
      "execution_count": null,
      "outputs": []
    },
    {
      "cell_type": "code",
      "execution_count": null,
      "id": "133fa252",
      "metadata": {
        "id": "133fa252"
      },
      "outputs": [],
      "source": [
        "vectorizer = CountVectorizer()\n",
        "wordCounter = vectorizer.fit_transform(preprocessedDataTweets) # bag-of-words matrix using CountVectorizer\n",
        "\n",
        "tftransformer = TfidfTransformer()\n",
        "tfmatrix = tftransformer.fit_transform(wordCounter) #transform bag-of-words\n",
        "\n",
        "tfarray = tfmatrix.toarray() #to array\n",
        "\n",
        "np.save('featureMatrixArray.npy', tfarray) #storing to a npy file -numpy array\n"
      ]
    },
    {
      "cell_type": "code",
      "source": [
        "!pip install transformers\n",
        "from transformers import DistilBertModel, DistilBertTokenizer, pipeline"
      ],
      "metadata": {
        "id": "QsMlWXoSc5O8"
      },
      "id": "QsMlWXoSc5O8",
      "execution_count": null,
      "outputs": []
    },
    {
      "cell_type": "code",
      "source": [
        "tokenizer = DistilBertTokenizer.from_pretrained('distilbert-base-uncased-finetuned-sst-2-english') # Initializes a DistilBertTokenizer\n",
        "model = DistilBertModel.from_pretrained('distilbert-base-uncased-finetuned-sst-2-english') # Initializes a DistilBertModel\n",
        "\n",
        "sentiment_classifier = pipeline(\"sentiment-analysis\", model=model, tokenizer=tokenizer) # pipeline for sentiment analysis\n",
        "\n",
        "emds = []\n",
        "\n",
        "for tweet in preprocessedDataTweets:\n",
        "    if not tweet.strip(): #ignores empty tweets\n",
        "        continue\n",
        "    \n",
        "    inputs = tokenizer(tweet, return_tensors=\"pt\", padding=True, truncation=True)\n",
        "    outputs = model(**inputs)\n",
        "    lastHideState = outputs.last_hidden_state\n",
        "    cls_token = lastHideState[:, 0, :].detach().numpy()\n",
        "    emds.append(cls_token) # Stores the sentiment\n",
        "\n",
        "emds = np.array(emds)\n",
        "emds = np.squeeze(emds) #generates np array"
      ],
      "metadata": {
        "colab": {
          "base_uri": "https://localhost:8080/"
        },
        "id": "_cbJJ8cOfqfy",
        "outputId": "3fea17e3-d142-4a5c-d44f-c306844eab1f"
      },
      "id": "_cbJJ8cOfqfy",
      "execution_count": null,
      "outputs": [
        {
          "output_type": "stream",
          "name": "stderr",
          "text": [
            "Some weights of the model checkpoint at distilbert-base-uncased-finetuned-sst-2-english were not used when initializing DistilBertModel: ['pre_classifier.bias', 'classifier.bias', 'pre_classifier.weight', 'classifier.weight']\n",
            "- This IS expected if you are initializing DistilBertModel from the checkpoint of a model trained on another task or with another architecture (e.g. initializing a BertForSequenceClassification model from a BertForPreTraining model).\n",
            "- This IS NOT expected if you are initializing DistilBertModel from the checkpoint of a model that you expect to be exactly identical (initializing a BertForSequenceClassification model from a BertForSequenceClassification model).\n",
            "The model 'DistilBertModel' is not supported for sentiment-analysis. Supported models are ['AlbertForSequenceClassification', 'BartForSequenceClassification', 'BertForSequenceClassification', 'BigBirdForSequenceClassification', 'BigBirdPegasusForSequenceClassification', 'BloomForSequenceClassification', 'CamembertForSequenceClassification', 'CanineForSequenceClassification', 'ConvBertForSequenceClassification', 'CTRLForSequenceClassification', 'Data2VecTextForSequenceClassification', 'DebertaForSequenceClassification', 'DebertaV2ForSequenceClassification', 'DistilBertForSequenceClassification', 'ElectraForSequenceClassification', 'ErnieForSequenceClassification', 'ErnieMForSequenceClassification', 'EsmForSequenceClassification', 'FlaubertForSequenceClassification', 'FNetForSequenceClassification', 'FunnelForSequenceClassification', 'GPT2ForSequenceClassification', 'GPT2ForSequenceClassification', 'GPTBigCodeForSequenceClassification', 'GPTNeoForSequenceClassification', 'GPTNeoXForSequenceClassification', 'GPTJForSequenceClassification', 'IBertForSequenceClassification', 'LayoutLMForSequenceClassification', 'LayoutLMv2ForSequenceClassification', 'LayoutLMv3ForSequenceClassification', 'LEDForSequenceClassification', 'LiltForSequenceClassification', 'LlamaForSequenceClassification', 'LongformerForSequenceClassification', 'LukeForSequenceClassification', 'MarkupLMForSequenceClassification', 'MBartForSequenceClassification', 'MegaForSequenceClassification', 'MegatronBertForSequenceClassification', 'MobileBertForSequenceClassification', 'MPNetForSequenceClassification', 'MvpForSequenceClassification', 'NezhaForSequenceClassification', 'NystromformerForSequenceClassification', 'OpenAIGPTForSequenceClassification', 'OPTForSequenceClassification', 'PerceiverForSequenceClassification', 'PLBartForSequenceClassification', 'QDQBertForSequenceClassification', 'ReformerForSequenceClassification', 'RemBertForSequenceClassification', 'RobertaForSequenceClassification', 'RobertaPreLayerNormForSequenceClassification', 'RoCBertForSequenceClassification', 'RoFormerForSequenceClassification', 'SqueezeBertForSequenceClassification', 'TapasForSequenceClassification', 'TransfoXLForSequenceClassification', 'XLMForSequenceClassification', 'XLMRobertaForSequenceClassification', 'XLMRobertaXLForSequenceClassification', 'XLNetForSequenceClassification', 'XmodForSequenceClassification', 'YosoForSequenceClassification'].\n"
          ]
        }
      ]
    },
    {
      "cell_type": "code",
      "source": [
        "import numpy as np\n",
        "from transformers import AutoModelForSequenceClassification, AutoTokenizer, pipeline"
      ],
      "metadata": {
        "id": "B66_bnFqh94P"
      },
      "id": "B66_bnFqh94P",
      "execution_count": null,
      "outputs": []
    },
    {
      "cell_type": "code",
      "source": [
        "labels = []"
      ],
      "metadata": {
        "id": "kChMjSFMkGLQ"
      },
      "id": "kChMjSFMkGLQ",
      "execution_count": null,
      "outputs": []
    },
    {
      "cell_type": "code",
      "source": [
        "tokenizer = AutoTokenizer.from_pretrained('distilbert-base-uncased-finetuned-sst-2-english') # Initializes a DistilBertTokenizer\n",
        "model = AutoModelForSequenceClassification.from_pretrained('distilbert-base-uncased-finetuned-sst-2-english') # Initializes a DistilBertModel\n",
        "\n",
        "for tweet in preprocessedDataTweets:\n",
        "    if not tweet.strip(): #ignores empty tweets\n",
        "        continue\n",
        "        \n",
        "    inputs = tokenizer(tweet, return_tensors=\"pt\", padding=True, truncation=True) #input tensor\n",
        "    \n",
        "    outputs = model(**inputs) #Feeding the input tensors to the model\n",
        "    logits = outputs.logits   # get logits\n",
        "\n",
        "    probabilities = logits.softmax(dim=1).detach().numpy()\n",
        "    sentiment_index = np.argmax(probabilities, axis=1)[0]\n",
        "\n",
        "    if sentiment_index == 1:\n",
        "      label = 1\n",
        "    else:\n",
        "      label = 0\n",
        "\n",
        "    labels.append(label)\n",
        "\n",
        "labels = np.array(labels) #list to numpy array conversion"
      ],
      "metadata": {
        "id": "44r-SJNhhIb_"
      },
      "id": "44r-SJNhhIb_",
      "execution_count": null,
      "outputs": []
    },
    {
      "cell_type": "code",
      "source": [
        "#MODEL TRAINING AND EVALUATION\n",
        "\n",
        "import numpy as np\n",
        "from sklearn.model_selection import train_test_split\n",
        "from tensorflow.keras.models import Sequential\n",
        "from tensorflow.keras.layers import LSTM, Conv1D, GlobalMaxPooling1D, Dense, Reshape\n",
        "from tensorflow.keras.optimizers import Adam\n",
        "from sklearn.metrics import accuracy_score, precision_score, recall_score, f1_score, confusion_matrix\n",
        "import seaborn as sns\n",
        "import matplotlib.pyplot as plt"
      ],
      "metadata": {
        "id": "-pjGSmCRoi02"
      },
      "id": "-pjGSmCRoi02",
      "execution_count": null,
      "outputs": []
    },
    {
      "cell_type": "code",
      "source": [
        "X_train, X_test, y_train, y_test = train_test_split(emds, labels, test_size=0.2, random_state=42) # split dataset into train and test sets\n",
        "\n",
        "max_length = 768\n",
        "\n",
        "input_shape = (max_length,)\n",
        "\n",
        "model = Sequential([\n",
        "    Reshape((max_length, 1), input_shape=input_shape),\n",
        "    LSTM(32, return_sequences=True),\n",
        "    Conv1D(64, 5, activation='relu'),\n",
        "    GlobalMaxPooling1D(),\n",
        "    Dense(16, activation='relu'),\n",
        "    Dense(1, activation='sigmoid')\n",
        "])\n",
        "\n",
        "model.compile(loss='binary_crossentropy', optimizer=Adam(learning_rate=0.001), metrics=['accuracy']) # compiling model\n",
        "\n",
        "model.fit(X_train, y_train, epochs=6, validation_data=(X_test, y_test), verbose=2) # Model training\n",
        "\n",
        "\n",
        "# Evaluate the model\n",
        "\n",
        "y_pred = (model.predict(X_test) > 0.5).astype(\"int32\")\n",
        "\n",
        "accuracy = accuracy_score(y_test, y_pred) # calculating accuracy\n",
        "precision = precision_score(y_test, y_pred) # calculation precision\n",
        "recall = recall_score(y_test, y_pred) # calculating recall\n",
        "f1 = f1_score(y_test, y_pred) # calculating f1 score\n",
        "\n",
        "print(\"Accuracy %:\", accuracy*100) \n",
        "print(\"Precision:\", precision)\n",
        "print(\"Recall:\", recall)\n",
        "print(\"F1-score:\", f1)\n",
        "\n",
        "conf_matrix = confusion_matrix(y_test, y_pred)\n",
        "sns.heatmap(conf_matrix, annot=True, fmt=\"d\", cmap=\"YlGnBu\") #confusion matrix\n",
        "plt.xlabel(\"Predicted\")\n",
        "plt.ylabel(\"Actual\")\n",
        "plt.title(\"Confusion Matrix\")\n",
        "plt.show() #show plot"
      ],
      "metadata": {
        "colab": {
          "base_uri": "https://localhost:8080/",
          "height": 776
        },
        "id": "cscqMvyXJp2L",
        "outputId": "d3ea3b68-ca71-4157-fe3d-72e64ebdc045"
      },
      "id": "cscqMvyXJp2L",
      "execution_count": null,
      "outputs": [
        {
          "output_type": "stream",
          "name": "stdout",
          "text": [
            "Epoch 1/6\n",
            "40/40 - 12s - loss: 0.6443 - accuracy: 0.6585 - val_loss: 0.6040 - val_accuracy: 0.6582 - 12s/epoch - 293ms/step\n",
            "Epoch 2/6\n",
            "40/40 - 10s - loss: 0.5817 - accuracy: 0.6585 - val_loss: 0.5130 - val_accuracy: 0.6582 - 10s/epoch - 244ms/step\n",
            "Epoch 3/6\n",
            "40/40 - 10s - loss: 0.4784 - accuracy: 0.7036 - val_loss: 0.4009 - val_accuracy: 0.7278 - 10s/epoch - 248ms/step\n",
            "Epoch 4/6\n",
            "40/40 - 9s - loss: 0.4312 - accuracy: 0.7908 - val_loss: 0.3682 - val_accuracy: 0.8924 - 9s/epoch - 235ms/step\n",
            "Epoch 5/6\n",
            "40/40 - 9s - loss: 0.3900 - accuracy: 0.8502 - val_loss: 0.3568 - val_accuracy: 0.8070 - 9s/epoch - 228ms/step\n",
            "Epoch 6/6\n",
            "40/40 - 10s - loss: 0.3733 - accuracy: 0.8597 - val_loss: 0.3230 - val_accuracy: 0.8829 - 10s/epoch - 250ms/step\n",
            "10/10 [==============================] - 1s 47ms/step\n",
            "Accuracy %: 88.29113924050634\n",
            "Precision: 0.88\n",
            "Recall: 0.9519230769230769\n",
            "F1-score: 0.9145496535796765\n"
          ]
        },
        {
          "output_type": "display_data",
          "data": {
            "text/plain": [
              "<Figure size 640x480 with 2 Axes>"
            ],
            "image/png": "[encoded data removed]"
          },
          "metadata": {}
        }
      ]
    },
    {
      "cell_type": "code",
      "source": [
        "#PREDICTION STEP\n",
        "\n",
        "import re\n",
        "from nltk.tokenize import word_tokenize\n",
        "from nltk.corpus import stopwords\n",
        "import string\n",
        "from transformers import DistilBertModel, DistilBertTokenizer, AutoModelForSequenceClassification, AutoTokenizer, pipeline"
      ],
      "metadata": {
        "id": "uO0SW7L8tDMn"
      },
      "id": "uO0SW7L8tDMn",
      "execution_count": null,
      "outputs": []
    },
    {
      "cell_type": "code",
      "source": [
        "myModel = Sequential([\n",
        "    Reshape((max_length, 1), input_shape=input_shape),\n",
        "    LSTM(32, return_sequences=True),\n",
        "    Conv1D(64, 5, activation='relu'),\n",
        "    GlobalMaxPooling1D(),\n",
        "    Dense(16, activation='relu'),\n",
        "    Dense(1, activation='sigmoid')\n",
        "])\n",
        "\n",
        "# Compile the model\n",
        "myModel.compile(loss='binary_crossentropy', optimizer=Adam(learning_rate=0.001), metrics=['accuracy'])\n",
        "\n",
        "# Train the model\n",
        "myModel.fit(X_train, y_train, epochs=6, validation_data=(X_test, y_test), verbose=2)\n"
      ],
      "metadata": {
        "colab": {
          "base_uri": "https://localhost:8080/"
        },
        "id": "iGvYGEQUqUTL",
        "outputId": "ddb99146-b8bf-49ee-c569-1fe8daa07dd0"
      },
      "id": "iGvYGEQUqUTL",
      "execution_count": null,
      "outputs": [
        {
          "output_type": "stream",
          "name": "stdout",
          "text": [
            "Epoch 1/6\n",
            "40/40 - 23s - loss: 0.6217 - accuracy: 0.6537 - val_loss: 0.5799 - val_accuracy: 0.6582 - 23s/epoch - 564ms/step\n",
            "Epoch 2/6\n",
            "40/40 - 16s - loss: 0.5520 - accuracy: 0.6585 - val_loss: 0.4825 - val_accuracy: 0.6582 - 16s/epoch - 395ms/step\n",
            "Epoch 3/6\n",
            "40/40 - 16s - loss: 0.4412 - accuracy: 0.7448 - val_loss: 0.3369 - val_accuracy: 0.8513 - 16s/epoch - 409ms/step\n",
            "Epoch 4/6\n",
            "40/40 - 16s - loss: 0.3170 - accuracy: 0.8669 - val_loss: 0.2536 - val_accuracy: 0.9177 - 16s/epoch - 407ms/step\n",
            "Epoch 5/6\n",
            "40/40 - 16s - loss: 0.2658 - accuracy: 0.8891 - val_loss: 0.2375 - val_accuracy: 0.8703 - 16s/epoch - 396ms/step\n",
            "Epoch 6/6\n",
            "40/40 - 16s - loss: 0.2380 - accuracy: 0.9002 - val_loss: 0.1973 - val_accuracy: 0.9335 - 16s/epoch - 400ms/step\n"
          ]
        },
        {
          "output_type": "execute_result",
          "data": {
            "text/plain": [
              "<keras.callbacks.History at 0x7f4751cc9d20>"
            ]
          },
          "metadata": {},
          "execution_count": 42
        }
      ]
    },
    {
      "cell_type": "code",
      "source": [
        "def preprocessingDataTweets(text):\n",
        "    text = re.sub(r'(https?|www)\\S+', '', text, flags=re.MULTILINE) # to remove weburl\n",
        "    \n",
        "    text = re.sub(r'[@#]\\w+', '', text) # to remove hashtags and mentions\n",
        "  \n",
        "    text = text.translate(str.maketrans('', '', string.punctuation)) # to remove punctuation marks\n",
        "\n",
        "    text = text.lower() #converts to lowercase for non repeation of words like the|The\n",
        "\n",
        "    tokens = word_tokenize(text) #converts the text into tokens\n",
        "\n",
        "    stopWords = set(stopwords.words('english')) #list of stopwords defining in stopwords variable\n",
        "    tokens = [word for word in tokens if word not in stopWords] # removes all the stopwords from tokens\n",
        "\n",
        "    text = ' '.join(tokens) # to convert the tokens to sentences\n",
        "\n",
        "    return ' '.join(tokens)\n",
        "\n",
        "distilbert_tokenizer = AutoTokenizer.from_pretrained('distilbert-base-uncased-finetuned-sst-2-english')\n",
        "distilbert_model = AutoModelForSequenceClassification.from_pretrained('distilbert-base-uncased-finetuned-sst-2-english')\n",
        "sentiment_classifier = pipeline(\"sentiment-analysis\", model=distilbert_model, tokenizer=distilbert_tokenizer)\n",
        "\n",
        "mySents = [\n",
        "    \"The instructors possess a wealth of expertise and are motivational.\",\n",
        "    \"The university environment is lively and inviting.\",\n",
        "    \"The faculty members are not exceptional.\",\n",
        "    \"I encountered a terrible situation.\",\n",
        "    \"The cafeteria food is not enjoyable.\",\n",
        "    \"The library is an excellent spot for learning.\",\n",
        "    \"The living quarters are quite uncomfortable.\",\n",
        "    \"The athletic facilities are of high quality.\",\n",
        "    \"The administrative staff is not supportive.\",\n",
        "    \"I don't feel proud to belong to this institution.\"\n",
        "]\n",
        "\n",
        "\n",
        "preprocessedTsents = [preprocessingDataTweets(sent) for sent in mySents]\n",
        "\n",
        "predictions = [sentiment_classifier(sent) for sent in preprocessedTsents]\n",
        "predictedLabels = [1 if pred[0][\"label\"] == \"POSITIVE\" else 0 for pred in predictions]\n",
        "\n",
        "for sent, label in zip(mySents, predictedLabels):\n",
        "    sentiment = \"\"\n",
        "    if label == 1:\n",
        "      sentiment = \"Positive\"\n",
        "    else:\n",
        "      sentiment = \"Negative\"\n",
        "    print(f\"{sent} - {sentiment}\")\n"
      ],
      "metadata": {
        "colab": {
          "base_uri": "https://localhost:8080/"
        },
        "id": "ClGehpAJnkiy",
        "outputId": "4b1c124c-2b97-4836-9a2a-128bc0683fe6"
      },
      "id": "ClGehpAJnkiy",
      "execution_count": null,
      "outputs": [
        {
          "output_type": "stream",
          "name": "stdout",
          "text": [
            "The instructors possess a wealth of expertise and are motivational. - Positive\n",
            "The university environment is lively and inviting. - Positive\n",
            "The faculty members are not exceptional. - Positive\n",
            "I encountered a terrible situation. - Negative\n",
            "The cafeteria food is not enjoyable. - Positive\n",
            "The library is an excellent spot for learning. - Positive\n",
            "The living quarters are quite uncomfortable. - Negative\n",
            "The athletic facilities are of high quality. - Positive\n",
            "The administrative staff is not supportive. - Positive\n",
            "I don't feel proud to belong to this institution. - Negative\n"
          ]
        }
      ]
    }
  ],
  "metadata": {
    "kernelspec": {
      "display_name": "Python 3 (ipykernel)",
      "language": "python",
      "name": "python3"
    },
    "language_info": {
      "codemirror_mode": {
        "name": "ipython",
        "version": 3
      },
      "file_extension": ".py",
      "mimetype": "text/x-python",
      "name": "python",
      "nbconvert_exporter": "python",
      "pygments_lexer": "ipython3",
      "version": "3.9.12"
    },
    "colab": {
      "provenance": []
    }
  },
  "nbformat": 4,
  "nbformat_minor": 5
}